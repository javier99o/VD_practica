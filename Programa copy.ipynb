{
 "cells": [
  {
   "cell_type": "markdown",
   "metadata": {},
   "source": [
    "# Caso Práctico - Visualización de Datos\n",
    "---\n",
    "Visualización de Datos del Máster Universitario en Ingeniería y Ciencia de Datos (2023/2024)\n",
    "\n",
    "Alumno: **Javier Orive Soto**\n"
   ]
  },
  {
   "cell_type": "markdown",
   "metadata": {},
   "source": [
    "# 1. Importación de dependencias"
   ]
  },
  {
   "cell_type": "code",
   "execution_count": 61,
   "metadata": {},
   "outputs": [
    {
     "data": {
      "application/javascript": "(function(root) {\n  function now() {\n    return new Date();\n  }\n\n  var force = true;\n  var py_version = '3.4.3'.replace('rc', '-rc.').replace('.dev', '-dev.');\n  var reloading = false;\n  var Bokeh = root.Bokeh;\n\n  if (typeof (root._bokeh_timeout) === \"undefined\" || force) {\n    root._bokeh_timeout = Date.now() + 5000;\n    root._bokeh_failed_load = false;\n  }\n\n  function run_callbacks() {\n    try {\n      root._bokeh_onload_callbacks.forEach(function(callback) {\n        if (callback != null)\n          callback();\n      });\n    } finally {\n      delete root._bokeh_onload_callbacks;\n    }\n    console.debug(\"Bokeh: all callbacks have finished\");\n  }\n\n  function load_libs(css_urls, js_urls, js_modules, js_exports, callback) {\n    if (css_urls == null) css_urls = [];\n    if (js_urls == null) js_urls = [];\n    if (js_modules == null) js_modules = [];\n    if (js_exports == null) js_exports = {};\n\n    root._bokeh_onload_callbacks.push(callback);\n\n    if (root._bokeh_is_loading > 0) {\n      console.debug(\"Bokeh: BokehJS is being loaded, scheduling callback at\", now());\n      return null;\n    }\n    if (js_urls.length === 0 && js_modules.length === 0 && Object.keys(js_exports).length === 0) {\n      run_callbacks();\n      return null;\n    }\n    if (!reloading) {\n      console.debug(\"Bokeh: BokehJS not loaded, scheduling load and callback at\", now());\n    }\n\n    function on_load() {\n      root._bokeh_is_loading--;\n      if (root._bokeh_is_loading === 0) {\n        console.debug(\"Bokeh: all BokehJS libraries/stylesheets loaded\");\n        run_callbacks()\n      }\n    }\n    window._bokeh_on_load = on_load\n\n    function on_error() {\n      console.error(\"failed to load \" + url);\n    }\n\n    var skip = [];\n    if (window.requirejs) {\n      window.requirejs.config({'packages': {}, 'paths': {'vega-embed': 'https://cdn.jsdelivr.net/npm/vega-embed@6/build/vega-embed.min', 'vega-lite': 'https://cdn.jsdelivr.net/npm/vega-lite@5/build/vega-lite.min', 'vega': 'https://cdn.jsdelivr.net/npm/vega@5/build/vega.min'}, 'shim': {}});\n      require([\"vega-embed\"], function(vegaEmbed) {\n\twindow.vegaEmbed = vegaEmbed\n\ton_load()\n      })\n      require([\"vega-lite\"], function(vl) {\n\twindow.vl = vl\n\ton_load()\n      })\n      require([\"vega\"], function(vega) {\n\twindow.vega = vega\n\ton_load()\n      })\n      root._bokeh_is_loading = css_urls.length + 3;\n    } else {\n      root._bokeh_is_loading = css_urls.length + js_urls.length + js_modules.length + Object.keys(js_exports).length;\n    }\n\n    var existing_stylesheets = []\n    var links = document.getElementsByTagName('link')\n    for (var i = 0; i < links.length; i++) {\n      var link = links[i]\n      if (link.href != null) {\n\texisting_stylesheets.push(link.href)\n      }\n    }\n    for (var i = 0; i < css_urls.length; i++) {\n      var url = css_urls[i];\n      if (existing_stylesheets.indexOf(url) !== -1) {\n\ton_load()\n\tcontinue;\n      }\n      const element = document.createElement(\"link\");\n      element.onload = on_load;\n      element.onerror = on_error;\n      element.rel = \"stylesheet\";\n      element.type = \"text/css\";\n      element.href = url;\n      console.debug(\"Bokeh: injecting link tag for BokehJS stylesheet: \", url);\n      document.body.appendChild(element);\n    }    if (((window.vega !== undefined) && (!(window.vega instanceof HTMLElement))) || window.requirejs) {\n      var urls = ['https://cdn.holoviz.org/panel/1.4.5/dist/bundled/vegaplot/vega@5'];\n      for (var i = 0; i < urls.length; i++) {\n        skip.push(urls[i])\n      }\n    }    if (((window.vegaLite !== undefined) && (!(window.vegaLite instanceof HTMLElement))) || window.requirejs) {\n      var urls = ['https://cdn.holoviz.org/panel/1.4.5/dist/bundled/vegaplot/vega-lite@5'];\n      for (var i = 0; i < urls.length; i++) {\n        skip.push(urls[i])\n      }\n    }    if (((window.vegaEmbed !== undefined) && (!(window.vegaEmbed instanceof HTMLElement))) || window.requirejs) {\n      var urls = ['https://cdn.holoviz.org/panel/1.4.5/dist/bundled/vegaplot/vega-embed@6'];\n      for (var i = 0; i < urls.length; i++) {\n        skip.push(urls[i])\n      }\n    }    var existing_scripts = []\n    var scripts = document.getElementsByTagName('script')\n    for (var i = 0; i < scripts.length; i++) {\n      var script = scripts[i]\n      if (script.src != null) {\n\texisting_scripts.push(script.src)\n      }\n    }\n    for (var i = 0; i < js_urls.length; i++) {\n      var url = js_urls[i];\n      if (skip.indexOf(url) !== -1 || existing_scripts.indexOf(url) !== -1) {\n\tif (!window.requirejs) {\n\t  on_load();\n\t}\n\tcontinue;\n      }\n      var element = document.createElement('script');\n      element.onload = on_load;\n      element.onerror = on_error;\n      element.async = false;\n      element.src = url;\n      console.debug(\"Bokeh: injecting script tag for BokehJS library: \", url);\n      document.head.appendChild(element);\n    }\n    for (var i = 0; i < js_modules.length; i++) {\n      var url = js_modules[i];\n      if (skip.indexOf(url) !== -1 || existing_scripts.indexOf(url) !== -1) {\n\tif (!window.requirejs) {\n\t  on_load();\n\t}\n\tcontinue;\n      }\n      var element = document.createElement('script');\n      element.onload = on_load;\n      element.onerror = on_error;\n      element.async = false;\n      element.src = url;\n      element.type = \"module\";\n      console.debug(\"Bokeh: injecting script tag for BokehJS library: \", url);\n      document.head.appendChild(element);\n    }\n    for (const name in js_exports) {\n      var url = js_exports[name];\n      if (skip.indexOf(url) >= 0 || root[name] != null) {\n\tif (!window.requirejs) {\n\t  on_load();\n\t}\n\tcontinue;\n      }\n      var element = document.createElement('script');\n      element.onerror = on_error;\n      element.async = false;\n      element.type = \"module\";\n      console.debug(\"Bokeh: injecting script tag for BokehJS library: \", url);\n      element.textContent = `\n      import ${name} from \"${url}\"\n      window.${name} = ${name}\n      window._bokeh_on_load()\n      `\n      document.head.appendChild(element);\n    }\n    if (!js_urls.length && !js_modules.length) {\n      on_load()\n    }\n  };\n\n  function inject_raw_css(css) {\n    const element = document.createElement(\"style\");\n    element.appendChild(document.createTextNode(css));\n    document.body.appendChild(element);\n  }\n\n  var js_urls = [\"https://cdn.holoviz.org/panel/1.4.5/dist/bundled/vegaplot/vega@5\", \"https://cdn.holoviz.org/panel/1.4.5/dist/bundled/vegaplot/vega-lite@5\", \"https://cdn.holoviz.org/panel/1.4.5/dist/bundled/vegaplot/vega-embed@6\", \"https://cdn.bokeh.org/bokeh/release/bokeh-3.4.3.min.js\", \"https://cdn.bokeh.org/bokeh/release/bokeh-gl-3.4.3.min.js\", \"https://cdn.bokeh.org/bokeh/release/bokeh-widgets-3.4.3.min.js\", \"https://cdn.bokeh.org/bokeh/release/bokeh-tables-3.4.3.min.js\", \"https://cdn.holoviz.org/panel/1.4.5/dist/panel.min.js\"];\n  var js_modules = [];\n  var js_exports = {};\n  var css_urls = [];\n  var inline_js = [    function(Bokeh) {\n      Bokeh.set_log_level(\"info\");\n    },\nfunction(Bokeh) {} // ensure no trailing comma for IE\n  ];\n\n  function run_inline_js() {\n    if ((root.Bokeh !== undefined) || (force === true)) {\n      for (var i = 0; i < inline_js.length; i++) {\n\ttry {\n          inline_js[i].call(root, root.Bokeh);\n\t} catch(e) {\n\t  if (!reloading) {\n\t    throw e;\n\t  }\n\t}\n      }\n      // Cache old bokeh versions\n      if (Bokeh != undefined && !reloading) {\n\tvar NewBokeh = root.Bokeh;\n\tif (Bokeh.versions === undefined) {\n\t  Bokeh.versions = new Map();\n\t}\n\tif (NewBokeh.version !== Bokeh.version) {\n\t  Bokeh.versions.set(NewBokeh.version, NewBokeh)\n\t}\n\troot.Bokeh = Bokeh;\n      }} else if (Date.now() < root._bokeh_timeout) {\n      setTimeout(run_inline_js, 100);\n    } else if (!root._bokeh_failed_load) {\n      console.log(\"Bokeh: BokehJS failed to load within specified timeout.\");\n      root._bokeh_failed_load = true;\n    }\n    root._bokeh_is_initializing = false\n  }\n\n  function load_or_wait() {\n    // Implement a backoff loop that tries to ensure we do not load multiple\n    // versions of Bokeh and its dependencies at the same time.\n    // In recent versions we use the root._bokeh_is_initializing flag\n    // to determine whether there is an ongoing attempt to initialize\n    // bokeh, however for backward compatibility we also try to ensure\n    // that we do not start loading a newer (Panel>=1.0 and Bokeh>3) version\n    // before older versions are fully initialized.\n    if (root._bokeh_is_initializing && Date.now() > root._bokeh_timeout) {\n      root._bokeh_is_initializing = false;\n      root._bokeh_onload_callbacks = undefined;\n      console.log(\"Bokeh: BokehJS was loaded multiple times but one version failed to initialize.\");\n      load_or_wait();\n    } else if (root._bokeh_is_initializing || (typeof root._bokeh_is_initializing === \"undefined\" && root._bokeh_onload_callbacks !== undefined)) {\n      setTimeout(load_or_wait, 100);\n    } else {\n      root._bokeh_is_initializing = true\n      root._bokeh_onload_callbacks = []\n      var bokeh_loaded = Bokeh != null && (Bokeh.version === py_version || (Bokeh.versions !== undefined && Bokeh.versions.has(py_version)));\n      if (!reloading && !bokeh_loaded) {\n\troot.Bokeh = undefined;\n      }\n      load_libs(css_urls, js_urls, js_modules, js_exports, function() {\n\tconsole.debug(\"Bokeh: BokehJS plotting callback run at\", now());\n\trun_inline_js();\n      });\n    }\n  }\n  // Give older versions of the autoload script a head-start to ensure\n  // they initialize before we start loading newer version.\n  setTimeout(load_or_wait, 100)\n}(window));",
      "application/vnd.holoviews_load.v0+json": ""
     },
     "metadata": {},
     "output_type": "display_data"
    },
    {
     "data": {
      "application/javascript": "\nif ((window.PyViz === undefined) || (window.PyViz instanceof HTMLElement)) {\n  window.PyViz = {comms: {}, comm_status:{}, kernels:{}, receivers: {}, plot_index: []}\n}\n\n\n    function JupyterCommManager() {\n    }\n\n    JupyterCommManager.prototype.register_target = function(plot_id, comm_id, msg_handler) {\n      if (window.comm_manager || ((window.Jupyter !== undefined) && (Jupyter.notebook.kernel != null))) {\n        var comm_manager = window.comm_manager || Jupyter.notebook.kernel.comm_manager;\n        comm_manager.register_target(comm_id, function(comm) {\n          comm.on_msg(msg_handler);\n        });\n      } else if ((plot_id in window.PyViz.kernels) && (window.PyViz.kernels[plot_id])) {\n        window.PyViz.kernels[plot_id].registerCommTarget(comm_id, function(comm) {\n          comm.onMsg = msg_handler;\n        });\n      } else if (typeof google != 'undefined' && google.colab.kernel != null) {\n        google.colab.kernel.comms.registerTarget(comm_id, (comm) => {\n          var messages = comm.messages[Symbol.asyncIterator]();\n          function processIteratorResult(result) {\n            var message = result.value;\n            console.log(message)\n            var content = {data: message.data, comm_id};\n            var buffers = []\n            for (var buffer of message.buffers || []) {\n              buffers.push(new DataView(buffer))\n            }\n            var metadata = message.metadata || {};\n            var msg = {content, buffers, metadata}\n            msg_handler(msg);\n            return messages.next().then(processIteratorResult);\n          }\n          return messages.next().then(processIteratorResult);\n        })\n      }\n    }\n\n    JupyterCommManager.prototype.get_client_comm = function(plot_id, comm_id, msg_handler) {\n      if (comm_id in window.PyViz.comms) {\n        return window.PyViz.comms[comm_id];\n      } else if (window.comm_manager || ((window.Jupyter !== undefined) && (Jupyter.notebook.kernel != null))) {\n        var comm_manager = window.comm_manager || Jupyter.notebook.kernel.comm_manager;\n        var comm = comm_manager.new_comm(comm_id, {}, {}, {}, comm_id);\n        if (msg_handler) {\n          comm.on_msg(msg_handler);\n        }\n      } else if ((plot_id in window.PyViz.kernels) && (window.PyViz.kernels[plot_id])) {\n        var comm = window.PyViz.kernels[plot_id].connectToComm(comm_id);\n        comm.open();\n        if (msg_handler) {\n          comm.onMsg = msg_handler;\n        }\n      } else if (typeof google != 'undefined' && google.colab.kernel != null) {\n        var comm_promise = google.colab.kernel.comms.open(comm_id)\n        comm_promise.then((comm) => {\n          window.PyViz.comms[comm_id] = comm;\n          if (msg_handler) {\n            var messages = comm.messages[Symbol.asyncIterator]();\n            function processIteratorResult(result) {\n              var message = result.value;\n              var content = {data: message.data};\n              var metadata = message.metadata || {comm_id};\n              var msg = {content, metadata}\n              msg_handler(msg);\n              return messages.next().then(processIteratorResult);\n            }\n            return messages.next().then(processIteratorResult);\n          }\n        }) \n        var sendClosure = (data, metadata, buffers, disposeOnDone) => {\n          return comm_promise.then((comm) => {\n            comm.send(data, metadata, buffers, disposeOnDone);\n          });\n        };\n        var comm = {\n          send: sendClosure\n        };\n      }\n      window.PyViz.comms[comm_id] = comm;\n      return comm;\n    }\n    window.PyViz.comm_manager = new JupyterCommManager();\n    \n\n\nvar JS_MIME_TYPE = 'application/javascript';\nvar HTML_MIME_TYPE = 'text/html';\nvar EXEC_MIME_TYPE = 'application/vnd.holoviews_exec.v0+json';\nvar CLASS_NAME = 'output';\n\n/**\n * Render data to the DOM node\n */\nfunction render(props, node) {\n  var div = document.createElement(\"div\");\n  var script = document.createElement(\"script\");\n  node.appendChild(div);\n  node.appendChild(script);\n}\n\n/**\n * Handle when a new output is added\n */\nfunction handle_add_output(event, handle) {\n  var output_area = handle.output_area;\n  var output = handle.output;\n  if ((output.data == undefined) || (!output.data.hasOwnProperty(EXEC_MIME_TYPE))) {\n    return\n  }\n  var id = output.metadata[EXEC_MIME_TYPE][\"id\"];\n  var toinsert = output_area.element.find(\".\" + CLASS_NAME.split(' ')[0]);\n  if (id !== undefined) {\n    var nchildren = toinsert.length;\n    var html_node = toinsert[nchildren-1].children[0];\n    html_node.innerHTML = output.data[HTML_MIME_TYPE];\n    var scripts = [];\n    var nodelist = html_node.querySelectorAll(\"script\");\n    for (var i in nodelist) {\n      if (nodelist.hasOwnProperty(i)) {\n        scripts.push(nodelist[i])\n      }\n    }\n\n    scripts.forEach( function (oldScript) {\n      var newScript = document.createElement(\"script\");\n      var attrs = [];\n      var nodemap = oldScript.attributes;\n      for (var j in nodemap) {\n        if (nodemap.hasOwnProperty(j)) {\n          attrs.push(nodemap[j])\n        }\n      }\n      attrs.forEach(function(attr) { newScript.setAttribute(attr.name, attr.value) });\n      newScript.appendChild(document.createTextNode(oldScript.innerHTML));\n      oldScript.parentNode.replaceChild(newScript, oldScript);\n    });\n    if (JS_MIME_TYPE in output.data) {\n      toinsert[nchildren-1].children[1].textContent = output.data[JS_MIME_TYPE];\n    }\n    output_area._hv_plot_id = id;\n    if ((window.Bokeh !== undefined) && (id in Bokeh.index)) {\n      window.PyViz.plot_index[id] = Bokeh.index[id];\n    } else {\n      window.PyViz.plot_index[id] = null;\n    }\n  } else if (output.metadata[EXEC_MIME_TYPE][\"server_id\"] !== undefined) {\n    var bk_div = document.createElement(\"div\");\n    bk_div.innerHTML = output.data[HTML_MIME_TYPE];\n    var script_attrs = bk_div.children[0].attributes;\n    for (var i = 0; i < script_attrs.length; i++) {\n      toinsert[toinsert.length - 1].childNodes[1].setAttribute(script_attrs[i].name, script_attrs[i].value);\n    }\n    // store reference to server id on output_area\n    output_area._bokeh_server_id = output.metadata[EXEC_MIME_TYPE][\"server_id\"];\n  }\n}\n\n/**\n * Handle when an output is cleared or removed\n */\nfunction handle_clear_output(event, handle) {\n  var id = handle.cell.output_area._hv_plot_id;\n  var server_id = handle.cell.output_area._bokeh_server_id;\n  if (((id === undefined) || !(id in PyViz.plot_index)) && (server_id !== undefined)) { return; }\n  var comm = window.PyViz.comm_manager.get_client_comm(\"hv-extension-comm\", \"hv-extension-comm\", function () {});\n  if (server_id !== null) {\n    comm.send({event_type: 'server_delete', 'id': server_id});\n    return;\n  } else if (comm !== null) {\n    comm.send({event_type: 'delete', 'id': id});\n  }\n  delete PyViz.plot_index[id];\n  if ((window.Bokeh !== undefined) & (id in window.Bokeh.index)) {\n    var doc = window.Bokeh.index[id].model.document\n    doc.clear();\n    const i = window.Bokeh.documents.indexOf(doc);\n    if (i > -1) {\n      window.Bokeh.documents.splice(i, 1);\n    }\n  }\n}\n\n/**\n * Handle kernel restart event\n */\nfunction handle_kernel_cleanup(event, handle) {\n  delete PyViz.comms[\"hv-extension-comm\"];\n  window.PyViz.plot_index = {}\n}\n\n/**\n * Handle update_display_data messages\n */\nfunction handle_update_output(event, handle) {\n  handle_clear_output(event, {cell: {output_area: handle.output_area}})\n  handle_add_output(event, handle)\n}\n\nfunction register_renderer(events, OutputArea) {\n  function append_mime(data, metadata, element) {\n    // create a DOM node to render to\n    var toinsert = this.create_output_subarea(\n    metadata,\n    CLASS_NAME,\n    EXEC_MIME_TYPE\n    );\n    this.keyboard_manager.register_events(toinsert);\n    // Render to node\n    var props = {data: data, metadata: metadata[EXEC_MIME_TYPE]};\n    render(props, toinsert[0]);\n    element.append(toinsert);\n    return toinsert\n  }\n\n  events.on('output_added.OutputArea', handle_add_output);\n  events.on('output_updated.OutputArea', handle_update_output);\n  events.on('clear_output.CodeCell', handle_clear_output);\n  events.on('delete.Cell', handle_clear_output);\n  events.on('kernel_ready.Kernel', handle_kernel_cleanup);\n\n  OutputArea.prototype.register_mime_type(EXEC_MIME_TYPE, append_mime, {\n    safe: true,\n    index: 0\n  });\n}\n\nif (window.Jupyter !== undefined) {\n  try {\n    var events = require('base/js/events');\n    var OutputArea = require('notebook/js/outputarea').OutputArea;\n    if (OutputArea.prototype.mime_types().indexOf(EXEC_MIME_TYPE) == -1) {\n      register_renderer(events, OutputArea);\n    }\n  } catch(err) {\n  }\n}\n",
      "application/vnd.holoviews_load.v0+json": ""
     },
     "metadata": {},
     "output_type": "display_data"
    },
    {
     "data": {
      "text/html": [
       "<style>*[data-root-id],\n",
       "*[data-root-id] > * {\n",
       "  box-sizing: border-box;\n",
       "  font-family: var(--jp-ui-font-family);\n",
       "  font-size: var(--jp-ui-font-size1);\n",
       "  color: var(--vscode-editor-foreground, var(--jp-ui-font-color1));\n",
       "}\n",
       "\n",
       "/* Override VSCode background color */\n",
       ".cell-output-ipywidget-background:has(\n",
       "    > .cell-output-ipywidget-background > .lm-Widget > *[data-root-id]\n",
       "  ),\n",
       ".cell-output-ipywidget-background:has(> .lm-Widget > *[data-root-id]) {\n",
       "  background-color: transparent !important;\n",
       "}\n",
       "</style>"
      ]
     },
     "metadata": {},
     "output_type": "display_data"
    },
    {
     "data": {
      "application/vnd.holoviews_exec.v0+json": "",
      "text/html": [
       "<div id='2d548cb8-c574-4208-a1e3-59a11a735ed6'>\n",
       "  <div id=\"ce0bf18a-13d7-4d64-a1fb-da9c92426d4b\" data-root-id=\"2d548cb8-c574-4208-a1e3-59a11a735ed6\" style=\"display: contents;\"></div>\n",
       "</div>\n",
       "<script type=\"application/javascript\">(function(root) {\n",
       "  var docs_json = {\"50ea456c-2e9f-4f37-90c2-dbdac4b3f15d\":{\"version\":\"3.4.3\",\"title\":\"Bokeh Application\",\"roots\":[{\"type\":\"object\",\"name\":\"panel.models.browser.BrowserInfo\",\"id\":\"2d548cb8-c574-4208-a1e3-59a11a735ed6\"},{\"type\":\"object\",\"name\":\"panel.models.comm_manager.CommManager\",\"id\":\"2b407e36-4a17-4bc0-9555-eb5ece802bb3\",\"attributes\":{\"plot_id\":\"2d548cb8-c574-4208-a1e3-59a11a735ed6\",\"comm_id\":\"fb227dcf13f34e088c1e2582349b3696\",\"client_comm_id\":\"12ba42f232f941738097410e25e15153\"}}],\"defs\":[{\"type\":\"model\",\"name\":\"ReactiveHTML1\"},{\"type\":\"model\",\"name\":\"FlexBox1\",\"properties\":[{\"name\":\"align_content\",\"kind\":\"Any\",\"default\":\"flex-start\"},{\"name\":\"align_items\",\"kind\":\"Any\",\"default\":\"flex-start\"},{\"name\":\"flex_direction\",\"kind\":\"Any\",\"default\":\"row\"},{\"name\":\"flex_wrap\",\"kind\":\"Any\",\"default\":\"wrap\"},{\"name\":\"gap\",\"kind\":\"Any\",\"default\":\"\"},{\"name\":\"justify_content\",\"kind\":\"Any\",\"default\":\"flex-start\"}]},{\"type\":\"model\",\"name\":\"FloatPanel1\",\"properties\":[{\"name\":\"config\",\"kind\":\"Any\",\"default\":{\"type\":\"map\"}},{\"name\":\"contained\",\"kind\":\"Any\",\"default\":true},{\"name\":\"position\",\"kind\":\"Any\",\"default\":\"right-top\"},{\"name\":\"offsetx\",\"kind\":\"Any\",\"default\":null},{\"name\":\"offsety\",\"kind\":\"Any\",\"default\":null},{\"name\":\"theme\",\"kind\":\"Any\",\"default\":\"primary\"},{\"name\":\"status\",\"kind\":\"Any\",\"default\":\"normalized\"}]},{\"type\":\"model\",\"name\":\"GridStack1\",\"properties\":[{\"name\":\"mode\",\"kind\":\"Any\",\"default\":\"warn\"},{\"name\":\"ncols\",\"kind\":\"Any\",\"default\":null},{\"name\":\"nrows\",\"kind\":\"Any\",\"default\":null},{\"name\":\"allow_resize\",\"kind\":\"Any\",\"default\":true},{\"name\":\"allow_drag\",\"kind\":\"Any\",\"default\":true},{\"name\":\"state\",\"kind\":\"Any\",\"default\":[]}]},{\"type\":\"model\",\"name\":\"drag1\",\"properties\":[{\"name\":\"slider_width\",\"kind\":\"Any\",\"default\":5},{\"name\":\"slider_color\",\"kind\":\"Any\",\"default\":\"black\"},{\"name\":\"value\",\"kind\":\"Any\",\"default\":50}]},{\"type\":\"model\",\"name\":\"click1\",\"properties\":[{\"name\":\"terminal_output\",\"kind\":\"Any\",\"default\":\"\"},{\"name\":\"debug_name\",\"kind\":\"Any\",\"default\":\"\"},{\"name\":\"clears\",\"kind\":\"Any\",\"default\":0}]},{\"type\":\"model\",\"name\":\"FastWrapper1\",\"properties\":[{\"name\":\"object\",\"kind\":\"Any\",\"default\":null},{\"name\":\"style\",\"kind\":\"Any\",\"default\":null}]},{\"type\":\"model\",\"name\":\"NotificationAreaBase1\",\"properties\":[{\"name\":\"js_events\",\"kind\":\"Any\",\"default\":{\"type\":\"map\"}},{\"name\":\"position\",\"kind\":\"Any\",\"default\":\"bottom-right\"},{\"name\":\"_clear\",\"kind\":\"Any\",\"default\":0}]},{\"type\":\"model\",\"name\":\"NotificationArea1\",\"properties\":[{\"name\":\"js_events\",\"kind\":\"Any\",\"default\":{\"type\":\"map\"}},{\"name\":\"notifications\",\"kind\":\"Any\",\"default\":[]},{\"name\":\"position\",\"kind\":\"Any\",\"default\":\"bottom-right\"},{\"name\":\"_clear\",\"kind\":\"Any\",\"default\":0},{\"name\":\"types\",\"kind\":\"Any\",\"default\":[{\"type\":\"map\",\"entries\":[[\"type\",\"warning\"],[\"background\",\"#ffc107\"],[\"icon\",{\"type\":\"map\",\"entries\":[[\"className\",\"fas fa-exclamation-triangle\"],[\"tagName\",\"i\"],[\"color\",\"white\"]]}]]},{\"type\":\"map\",\"entries\":[[\"type\",\"info\"],[\"background\",\"#007bff\"],[\"icon\",{\"type\":\"map\",\"entries\":[[\"className\",\"fas fa-info-circle\"],[\"tagName\",\"i\"],[\"color\",\"white\"]]}]]}]}]},{\"type\":\"model\",\"name\":\"Notification\",\"properties\":[{\"name\":\"background\",\"kind\":\"Any\",\"default\":null},{\"name\":\"duration\",\"kind\":\"Any\",\"default\":3000},{\"name\":\"icon\",\"kind\":\"Any\",\"default\":null},{\"name\":\"message\",\"kind\":\"Any\",\"default\":\"\"},{\"name\":\"notification_type\",\"kind\":\"Any\",\"default\":null},{\"name\":\"_destroyed\",\"kind\":\"Any\",\"default\":false}]},{\"type\":\"model\",\"name\":\"TemplateActions1\",\"properties\":[{\"name\":\"open_modal\",\"kind\":\"Any\",\"default\":0},{\"name\":\"close_modal\",\"kind\":\"Any\",\"default\":0}]},{\"type\":\"model\",\"name\":\"BootstrapTemplateActions1\",\"properties\":[{\"name\":\"open_modal\",\"kind\":\"Any\",\"default\":0},{\"name\":\"close_modal\",\"kind\":\"Any\",\"default\":0}]},{\"type\":\"model\",\"name\":\"TemplateEditor1\",\"properties\":[{\"name\":\"layout\",\"kind\":\"Any\",\"default\":[]}]},{\"type\":\"model\",\"name\":\"MaterialTemplateActions1\",\"properties\":[{\"name\":\"open_modal\",\"kind\":\"Any\",\"default\":0},{\"name\":\"close_modal\",\"kind\":\"Any\",\"default\":0}]},{\"type\":\"model\",\"name\":\"copy_to_clipboard1\",\"properties\":[{\"name\":\"fill\",\"kind\":\"Any\",\"default\":\"none\"},{\"name\":\"value\",\"kind\":\"Any\",\"default\":null}]}]}};\n",
       "  var render_items = [{\"docid\":\"50ea456c-2e9f-4f37-90c2-dbdac4b3f15d\",\"roots\":{\"2d548cb8-c574-4208-a1e3-59a11a735ed6\":\"ce0bf18a-13d7-4d64-a1fb-da9c92426d4b\"},\"root_ids\":[\"2d548cb8-c574-4208-a1e3-59a11a735ed6\"]}];\n",
       "  var docs = Object.values(docs_json)\n",
       "  if (!docs) {\n",
       "    return\n",
       "  }\n",
       "  const py_version = docs[0].version.replace('rc', '-rc.').replace('.dev', '-dev.')\n",
       "  async function embed_document(root) {\n",
       "    var Bokeh = get_bokeh(root)\n",
       "    await Bokeh.embed.embed_items_notebook(docs_json, render_items);\n",
       "    for (const render_item of render_items) {\n",
       "      for (const root_id of render_item.root_ids) {\n",
       "\tconst id_el = document.getElementById(root_id)\n",
       "\tif (id_el.children.length && id_el.children[0].hasAttribute('data-root-id')) {\n",
       "\t  const root_el = id_el.children[0]\n",
       "\t  root_el.id = root_el.id + '-rendered'\n",
       "\t  for (const child of root_el.children) {\n",
       "            // Ensure JupyterLab does not capture keyboard shortcuts\n",
       "            // see: https://jupyterlab.readthedocs.io/en/4.1.x/extension/notebook.html#keyboard-interaction-model\n",
       "\t    child.setAttribute('data-lm-suppress-shortcuts', 'true')\n",
       "\t  }\n",
       "\t}\n",
       "      }\n",
       "    }\n",
       "  }\n",
       "  function get_bokeh(root) {\n",
       "    if (root.Bokeh === undefined) {\n",
       "      return null\n",
       "    } else if (root.Bokeh.version !== py_version) {\n",
       "      if (root.Bokeh.versions === undefined || !root.Bokeh.versions.has(py_version)) {\n",
       "\treturn null\n",
       "      }\n",
       "      return root.Bokeh.versions.get(py_version);\n",
       "    } else if (root.Bokeh.version === py_version) {\n",
       "      return root.Bokeh\n",
       "    }\n",
       "    return null\n",
       "  }\n",
       "  function is_loaded(root) {\n",
       "    var Bokeh = get_bokeh(root)\n",
       "    return (Bokeh != null && Bokeh.Panel !== undefined && ( root.vega !== undefined) && ( root.vega !== undefined) && ( root.vega !== undefined))\n",
       "  }\n",
       "  if (is_loaded(root)) {\n",
       "    embed_document(root);\n",
       "  } else {\n",
       "    var attempts = 0;\n",
       "    var timer = setInterval(function(root) {\n",
       "      if (is_loaded(root)) {\n",
       "        clearInterval(timer);\n",
       "        embed_document(root);\n",
       "      } else if (document.readyState == \"complete\") {\n",
       "        attempts++;\n",
       "        if (attempts > 200) {\n",
       "          clearInterval(timer);\n",
       "\t  var Bokeh = get_bokeh(root)\n",
       "\t  if (Bokeh == null || Bokeh.Panel == null) {\n",
       "            console.warn(\"Panel: ERROR: Unable to run Panel code because Bokeh or Panel library is missing\");\n",
       "\t  } else {\n",
       "\t    console.warn(\"Panel: WARNING: Attempting to render but not all required libraries could be resolved.\")\n",
       "\t    embed_document(root)\n",
       "\t  }\n",
       "        }\n",
       "      }\n",
       "    }, 25, root)\n",
       "  }\n",
       "})(window);</script>"
      ]
     },
     "metadata": {
      "application/vnd.holoviews_exec.v0+json": {
       "id": "2d548cb8-c574-4208-a1e3-59a11a735ed6"
      }
     },
     "output_type": "display_data"
    }
   ],
   "source": [
    "import pandas as pd\n",
    "import panel as pn\n",
    "pn.extension('vega')\n",
    "\n",
    "import numpy as np\n",
    "import altair as alt\n",
    "\n",
    "import datetime as dt"
   ]
  },
  {
   "cell_type": "markdown",
   "metadata": {},
   "source": [
    "# 2. Importación de datos"
   ]
  },
  {
   "cell_type": "markdown",
   "metadata": {},
   "source": [
    "## 2.1 Datos de generación"
   ]
  },
  {
   "cell_type": "markdown",
   "metadata": {},
   "source": [
    "### 2.1.1. Grafico de generacion por tecnología (días)"
   ]
  },
  {
   "cell_type": "code",
   "execution_count": 62,
   "metadata": {},
   "outputs": [],
   "source": [
    "# Cargar el archivo Excel\n",
    "#file_path = 'Datos/Economico/PrecioMedioHorarioFinal_2023_d.xls'\n",
    "file_path = 'Datos/Generacion/GeneracionTotal_2023_h.csv'\n",
    "#df = pd.read_excel(file_path)\n",
    "df_G = pd.read_csv(file_path, delimiter=';')\n",
    "\n",
    "# Seleccionar solo las columnas de interés\n",
    "#df = df[['name', 'value', 'datetime']]"
   ]
  },
  {
   "cell_type": "code",
   "execution_count": 63,
   "metadata": {},
   "outputs": [],
   "source": [
    "# Convertir la columna datetime a tipo datetime\n",
    "df_G['datetime'] = pd.to_datetime(df_G['datetime'], utc = True) #, utc = True\n",
    "\n",
    "# Convertir la columna value a tipo float\n",
    "df_G['value'] = df_G['value'].astype(float)\n",
    "\n",
    "# Convertir la columna name a tipo categoría\n",
    "df_G['name'] = df_G['name'].astype('category')\n",
    "\n",
    "# Elimino las columnas vacías\n",
    "df_G = df_G.drop(['geoid', 'geoname'], axis=1)"
   ]
  },
  {
   "cell_type": "markdown",
   "metadata": {},
   "source": [
    "df_G = df_G.drop(df_G[df_G['id']== 10195].index)\n",
    "df_G['name'] = df_G['name'].str.slice(18)\n",
    "df_G['date'] = df_G['datetime'].dt.date"
   ]
  },
  {
   "cell_type": "markdown",
   "metadata": {},
   "source": [
    "df_G['year'] = df_G['datetime'].dt.year\n",
    "df_G['month'] = df_G['datetime'].dt.month\n",
    "df_G['day'] = df_G['datetime'].dt.day\n",
    "df_G['hour'] = df_G['datetime'].dt.hour"
   ]
  },
  {
   "cell_type": "code",
   "execution_count": 65,
   "metadata": {},
   "outputs": [
    {
     "data": {
      "text/html": [
       "<div>\n",
       "<style scoped>\n",
       "    .dataframe tbody tr th:only-of-type {\n",
       "        vertical-align: middle;\n",
       "    }\n",
       "\n",
       "    .dataframe tbody tr th {\n",
       "        vertical-align: top;\n",
       "    }\n",
       "\n",
       "    .dataframe thead th {\n",
       "        text-align: right;\n",
       "    }\n",
       "</style>\n",
       "<table border=\"1\" class=\"dataframe\">\n",
       "  <thead>\n",
       "    <tr style=\"text-align: right;\">\n",
       "      <th></th>\n",
       "      <th>id</th>\n",
       "      <th>name</th>\n",
       "      <th>value</th>\n",
       "      <th>datetime</th>\n",
       "      <th>date</th>\n",
       "    </tr>\n",
       "  </thead>\n",
       "  <tbody>\n",
       "    <tr>\n",
       "      <th>4321</th>\n",
       "      <td>1169</td>\n",
       "      <td>Biogás</td>\n",
       "      <td>83.937</td>\n",
       "      <td>2022-12-31 23:00:00+00:00</td>\n",
       "      <td>2022-12-31</td>\n",
       "    </tr>\n",
       "    <tr>\n",
       "      <th>4322</th>\n",
       "      <td>1169</td>\n",
       "      <td>Biogás</td>\n",
       "      <td>81.609</td>\n",
       "      <td>2023-01-01 00:00:00+00:00</td>\n",
       "      <td>2023-01-01</td>\n",
       "    </tr>\n",
       "    <tr>\n",
       "      <th>4323</th>\n",
       "      <td>1169</td>\n",
       "      <td>Biogás</td>\n",
       "      <td>80.939</td>\n",
       "      <td>2023-01-01 01:00:00+00:00</td>\n",
       "      <td>2023-01-01</td>\n",
       "    </tr>\n",
       "    <tr>\n",
       "      <th>4324</th>\n",
       "      <td>1169</td>\n",
       "      <td>Biogás</td>\n",
       "      <td>80.873</td>\n",
       "      <td>2023-01-01 02:00:00+00:00</td>\n",
       "      <td>2023-01-01</td>\n",
       "    </tr>\n",
       "    <tr>\n",
       "      <th>4325</th>\n",
       "      <td>1169</td>\n",
       "      <td>Biogás</td>\n",
       "      <td>80.765</td>\n",
       "      <td>2023-01-01 03:00:00+00:00</td>\n",
       "      <td>2023-01-01</td>\n",
       "    </tr>\n",
       "  </tbody>\n",
       "</table>\n",
       "</div>"
      ],
      "text/plain": [
       "        id    name   value                  datetime        date\n",
       "4321  1169  Biogás  83.937 2022-12-31 23:00:00+00:00  2022-12-31\n",
       "4322  1169  Biogás  81.609 2023-01-01 00:00:00+00:00  2023-01-01\n",
       "4323  1169  Biogás  80.939 2023-01-01 01:00:00+00:00  2023-01-01\n",
       "4324  1169  Biogás  80.873 2023-01-01 02:00:00+00:00  2023-01-01\n",
       "4325  1169  Biogás  80.765 2023-01-01 03:00:00+00:00  2023-01-01"
      ]
     },
     "execution_count": 65,
     "metadata": {},
     "output_type": "execute_result"
    }
   ],
   "source": [
    "df_G.head()"
   ]
  },
  {
   "cell_type": "code",
   "execution_count": 66,
   "metadata": {},
   "outputs": [
    {
     "name": "stdout",
     "output_type": "stream",
     "text": [
      "<class 'pandas.core.frame.DataFrame'>\n",
      "Index: 155473 entries, 4321 to 164210\n",
      "Data columns (total 5 columns):\n",
      " #   Column    Non-Null Count   Dtype              \n",
      "---  ------    --------------   -----              \n",
      " 0   id        155473 non-null  int64              \n",
      " 1   name      155473 non-null  object             \n",
      " 2   value     155473 non-null  float64            \n",
      " 3   datetime  155473 non-null  datetime64[ns, UTC]\n",
      " 4   date      155473 non-null  object             \n",
      "dtypes: datetime64[ns, UTC](1), float64(1), int64(1), object(2)\n",
      "memory usage: 7.1+ MB\n"
     ]
    }
   ],
   "source": [
    "df_G.info()"
   ]
  },
  {
   "cell_type": "code",
   "execution_count": 67,
   "metadata": {},
   "outputs": [
    {
     "data": {
      "application/vnd.jupyter.widget-view+json": {
       "model_id": "520754b1c93a48ebb04a8415e91ddbb9",
       "version_major": 2,
       "version_minor": 0
      },
      "text/plain": [
       "BokehModel(combine_events=True, render_bundle={'docs_json': {'5414a2f3-d617-4c9e-a9d2-8c3e1ec8273a': {'version…"
      ]
     },
     "execution_count": 67,
     "metadata": {},
     "output_type": "execute_result"
    }
   ],
   "source": [
    "# https://towardsdatascience.com/how-to-build-a-time-series-dashboard-in-python-with-panel-altair-and-a-jupyter-notebook-c0ed40f02289\n",
    "date_slider = pn.widgets.DateSlider(name='Date Slider', start=dt.datetime(2023, 1, 1), end=dt.datetime(2023, 12, 31), value=dt.datetime(2023, 1, 1))\n",
    "\n",
    "date_slider"
   ]
  },
  {
   "cell_type": "code",
   "execution_count": 68,
   "metadata": {},
   "outputs": [],
   "source": [
    "@pn.depends(date_slider.param.value)\n",
    "def get_plot(date):\n",
    "     # Load and format the data\n",
    "     df = df_G # define df\n",
    "     ##df[‘date’] = pd.to_datetime(df[‘date’])\n",
    "     # create date filter using values from the range slider\n",
    "     # store the first and last date range slider value in a var\n",
    "     start_date = date_slider.value\n",
    "     # create filter mask for the dataframe\n",
    "     mask = (df['date'] == start_date)\n",
    "     df = df.loc[mask] # filter the dataframe\n",
    "\n",
    "     selection = alt.selection_point(fields=['name'], bind='legend')\n",
    "\n",
    "     # create the Altair chart object\n",
    "     chart = alt.Chart(df).mark_area(interpolate='step').encode(\n",
    "               x=alt.X('datetime:T', title='Hora del día'),  # Eje X: Hora del día\n",
    "               y=alt.Y('sum(value):Q', title='Potencia eléctrica (MW)', scale=alt.Scale(domain=[0, 42000])),  # Suma de potencia\n",
    "               color=alt.Color('name:N', title='Tecnología'),  # Diferenciar por tecnología\n",
    "               opacity=alt.condition(selection, alt.value(1), alt.value(0.2))\n",
    "               ).properties(\n",
    "               title='Generación eléctrica por tecnología',\n",
    "               width=700,\n",
    "               height=400\n",
    "               ).add_params(selection)\n",
    "\n",
    "     return chart"
   ]
  },
  {
   "cell_type": "code",
   "execution_count": 69,
   "metadata": {},
   "outputs": [],
   "source": [
    "title = '## Desglose de generación eléctrica'\n",
    "subtitle = 'Este dashboard permite al usuario seleccionar\\n el día para el que se quieren visualizar los datos.\\n\\n Además, también se puede seleccionar la tecnología\\n para resaltarla en el gráfico.'\n",
    "\n",
    "dashboard = pn.Row(get_plot,\n",
    "                   pn.Column(title, subtitle, date_slider)\n",
    ")"
   ]
  },
  {
   "cell_type": "code",
   "execution_count": 70,
   "metadata": {},
   "outputs": [
    {
     "data": {
      "application/vnd.jupyter.widget-view+json": {
       "model_id": "85bf06d5cb4743448b19b396f6fd167d",
       "version_major": 2,
       "version_minor": 0
      },
      "text/plain": [
       "BokehModel(combine_events=True, render_bundle={'docs_json': {'fdf9fb3c-b785-483c-8daa-48501130fbe3': {'version…"
      ]
     },
     "execution_count": 70,
     "metadata": {},
     "output_type": "execute_result"
    }
   ],
   "source": [
    "dashboard"
   ]
  },
  {
   "cell_type": "markdown",
   "metadata": {},
   "source": [
    "### 2.1.2. Grafico de media anual generacion por tecnología"
   ]
  },
  {
   "cell_type": "code",
   "execution_count": 82,
   "metadata": {},
   "outputs": [],
   "source": [
    "df_aux = df_G.groupby('name')['value'].sum().sort_values(ascending=False).reset_index()\n",
    "\n",
    "# Calcular la suma total de la columna 'value'\n",
    "total_sum = df_aux['value'].sum()\n",
    "\n",
    "# Normalizar la columna 'value' a un 100%\n",
    "df_aux['value_normalized'] = (df_aux['value'] / total_sum)"
   ]
  },
  {
   "cell_type": "code",
   "execution_count": 83,
   "metadata": {},
   "outputs": [
    {
     "data": {
      "text/html": [
       "<div>\n",
       "<style scoped>\n",
       "    .dataframe tbody tr th:only-of-type {\n",
       "        vertical-align: middle;\n",
       "    }\n",
       "\n",
       "    .dataframe tbody tr th {\n",
       "        vertical-align: top;\n",
       "    }\n",
       "\n",
       "    .dataframe thead th {\n",
       "        text-align: right;\n",
       "    }\n",
       "</style>\n",
       "<table border=\"1\" class=\"dataframe\">\n",
       "  <thead>\n",
       "    <tr style=\"text-align: right;\">\n",
       "      <th></th>\n",
       "      <th>name</th>\n",
       "      <th>value</th>\n",
       "      <th>value_normalized</th>\n",
       "    </tr>\n",
       "  </thead>\n",
       "  <tbody>\n",
       "    <tr>\n",
       "      <th>0</th>\n",
       "      <td>Eólica terrestre</td>\n",
       "      <td>6.108076e+07</td>\n",
       "      <td>2.419517e-01</td>\n",
       "    </tr>\n",
       "    <tr>\n",
       "      <th>1</th>\n",
       "      <td>Nuclear</td>\n",
       "      <td>5.412415e+07</td>\n",
       "      <td>2.143953e-01</td>\n",
       "    </tr>\n",
       "    <tr>\n",
       "      <th>2</th>\n",
       "      <td>Ciclo combinado</td>\n",
       "      <td>3.920130e+07</td>\n",
       "      <td>1.552832e-01</td>\n",
       "    </tr>\n",
       "    <tr>\n",
       "      <th>3</th>\n",
       "      <td>Solar fotovoltaica</td>\n",
       "      <td>3.648300e+07</td>\n",
       "      <td>1.445156e-01</td>\n",
       "    </tr>\n",
       "    <tr>\n",
       "      <th>4</th>\n",
       "      <td>Hidráulica UGH</td>\n",
       "      <td>2.068712e+07</td>\n",
       "      <td>8.194533e-02</td>\n",
       "    </tr>\n",
       "    <tr>\n",
       "      <th>5</th>\n",
       "      <td>Gas Natural Cogeneración</td>\n",
       "      <td>1.653210e+07</td>\n",
       "      <td>6.548655e-02</td>\n",
       "    </tr>\n",
       "    <tr>\n",
       "      <th>6</th>\n",
       "      <td>Turbinación bombeo</td>\n",
       "      <td>5.184742e+06</td>\n",
       "      <td>2.053767e-02</td>\n",
       "    </tr>\n",
       "    <tr>\n",
       "      <th>7</th>\n",
       "      <td>Solar térmica</td>\n",
       "      <td>4.673006e+06</td>\n",
       "      <td>1.851060e-02</td>\n",
       "    </tr>\n",
       "    <tr>\n",
       "      <th>8</th>\n",
       "      <td>Hidráulica no UGH</td>\n",
       "      <td>4.547275e+06</td>\n",
       "      <td>1.801255e-02</td>\n",
       "    </tr>\n",
       "    <tr>\n",
       "      <th>9</th>\n",
       "      <td>Hulla antracita</td>\n",
       "      <td>2.933010e+06</td>\n",
       "      <td>1.161817e-02</td>\n",
       "    </tr>\n",
       "    <tr>\n",
       "      <th>10</th>\n",
       "      <td>Biomasa</td>\n",
       "      <td>2.864914e+06</td>\n",
       "      <td>1.134843e-02</td>\n",
       "    </tr>\n",
       "    <tr>\n",
       "      <th>11</th>\n",
       "      <td>Residuos domésticos y similares</td>\n",
       "      <td>1.410605e+06</td>\n",
       "      <td>5.587655e-03</td>\n",
       "    </tr>\n",
       "    <tr>\n",
       "      <th>12</th>\n",
       "      <td>Hulla sub-bituminosa</td>\n",
       "      <td>8.694031e+05</td>\n",
       "      <td>3.443859e-03</td>\n",
       "    </tr>\n",
       "    <tr>\n",
       "      <th>13</th>\n",
       "      <td>Biogás</td>\n",
       "      <td>6.974227e+05</td>\n",
       "      <td>2.762614e-03</td>\n",
       "    </tr>\n",
       "    <tr>\n",
       "      <th>14</th>\n",
       "      <td>Derivados del petróleo ó carbón</td>\n",
       "      <td>6.586726e+05</td>\n",
       "      <td>2.609118e-03</td>\n",
       "    </tr>\n",
       "    <tr>\n",
       "      <th>15</th>\n",
       "      <td>Residuos varios</td>\n",
       "      <td>4.680012e+05</td>\n",
       "      <td>1.853835e-03</td>\n",
       "    </tr>\n",
       "    <tr>\n",
       "      <th>16</th>\n",
       "      <td>Energía residual</td>\n",
       "      <td>1.784403e+04</td>\n",
       "      <td>7.068335e-05</td>\n",
       "    </tr>\n",
       "    <tr>\n",
       "      <th>17</th>\n",
       "      <td>Océano y geotérmica</td>\n",
       "      <td>1.140809e+04</td>\n",
       "      <td>4.518944e-05</td>\n",
       "    </tr>\n",
       "    <tr>\n",
       "      <th>18</th>\n",
       "      <td>Subproductos minería</td>\n",
       "      <td>4.714597e+03</td>\n",
       "      <td>1.867535e-05</td>\n",
       "    </tr>\n",
       "    <tr>\n",
       "      <th>19</th>\n",
       "      <td>Térmica no renovable</td>\n",
       "      <td>8.294500e+02</td>\n",
       "      <td>3.285597e-06</td>\n",
       "    </tr>\n",
       "    <tr>\n",
       "      <th>20</th>\n",
       "      <td>Fuel</td>\n",
       "      <td>-2.000000e-03</td>\n",
       "      <td>-7.922352e-12</td>\n",
       "    </tr>\n",
       "  </tbody>\n",
       "</table>\n",
       "</div>"
      ],
      "text/plain": [
       "                               name         value  value_normalized\n",
       "0                  Eólica terrestre  6.108076e+07      2.419517e-01\n",
       "1                           Nuclear  5.412415e+07      2.143953e-01\n",
       "2                   Ciclo combinado  3.920130e+07      1.552832e-01\n",
       "3                Solar fotovoltaica  3.648300e+07      1.445156e-01\n",
       "4                    Hidráulica UGH  2.068712e+07      8.194533e-02\n",
       "5          Gas Natural Cogeneración  1.653210e+07      6.548655e-02\n",
       "6                Turbinación bombeo  5.184742e+06      2.053767e-02\n",
       "7                     Solar térmica  4.673006e+06      1.851060e-02\n",
       "8                 Hidráulica no UGH  4.547275e+06      1.801255e-02\n",
       "9                   Hulla antracita  2.933010e+06      1.161817e-02\n",
       "10                          Biomasa  2.864914e+06      1.134843e-02\n",
       "11  Residuos domésticos y similares  1.410605e+06      5.587655e-03\n",
       "12             Hulla sub-bituminosa  8.694031e+05      3.443859e-03\n",
       "13                           Biogás  6.974227e+05      2.762614e-03\n",
       "14  Derivados del petróleo ó carbón  6.586726e+05      2.609118e-03\n",
       "15                  Residuos varios  4.680012e+05      1.853835e-03\n",
       "16                 Energía residual  1.784403e+04      7.068335e-05\n",
       "17              Océano y geotérmica  1.140809e+04      4.518944e-05\n",
       "18             Subproductos minería  4.714597e+03      1.867535e-05\n",
       "19             Térmica no renovable  8.294500e+02      3.285597e-06\n",
       "20                             Fuel -2.000000e-03     -7.922352e-12"
      ]
     },
     "execution_count": 83,
     "metadata": {},
     "output_type": "execute_result"
    }
   ],
   "source": [
    "df_aux"
   ]
  },
  {
   "cell_type": "code",
   "execution_count": 88,
   "metadata": {},
   "outputs": [
    {
     "data": {
      "text/html": [
       "\n",
       "<style>\n",
       "  #altair-viz-c277e043b51f4f8d8d4d0198cabe72c8.vega-embed {\n",
       "    width: 100%;\n",
       "    display: flex;\n",
       "  }\n",
       "\n",
       "  #altair-viz-c277e043b51f4f8d8d4d0198cabe72c8.vega-embed details,\n",
       "  #altair-viz-c277e043b51f4f8d8d4d0198cabe72c8.vega-embed details summary {\n",
       "    position: relative;\n",
       "  }\n",
       "</style>\n",
       "<div id=\"altair-viz-c277e043b51f4f8d8d4d0198cabe72c8\"></div>\n",
       "<script type=\"text/javascript\">\n",
       "  var VEGA_DEBUG = (typeof VEGA_DEBUG == \"undefined\") ? {} : VEGA_DEBUG;\n",
       "  (function(spec, embedOpt){\n",
       "    let outputDiv = document.currentScript.previousElementSibling;\n",
       "    if (outputDiv.id !== \"altair-viz-c277e043b51f4f8d8d4d0198cabe72c8\") {\n",
       "      outputDiv = document.getElementById(\"altair-viz-c277e043b51f4f8d8d4d0198cabe72c8\");\n",
       "    }\n",
       "    const paths = {\n",
       "      \"vega\": \"https://cdn.jsdelivr.net/npm/vega@5?noext\",\n",
       "      \"vega-lib\": \"https://cdn.jsdelivr.net/npm/vega-lib?noext\",\n",
       "      \"vega-lite\": \"https://cdn.jsdelivr.net/npm/vega-lite@5.20.1?noext\",\n",
       "      \"vega-embed\": \"https://cdn.jsdelivr.net/npm/vega-embed@6?noext\",\n",
       "    };\n",
       "\n",
       "    function maybeLoadScript(lib, version) {\n",
       "      var key = `${lib.replace(\"-\", \"\")}_version`;\n",
       "      return (VEGA_DEBUG[key] == version) ?\n",
       "        Promise.resolve(paths[lib]) :\n",
       "        new Promise(function(resolve, reject) {\n",
       "          var s = document.createElement('script');\n",
       "          document.getElementsByTagName(\"head\")[0].appendChild(s);\n",
       "          s.async = true;\n",
       "          s.onload = () => {\n",
       "            VEGA_DEBUG[key] = version;\n",
       "            return resolve(paths[lib]);\n",
       "          };\n",
       "          s.onerror = () => reject(`Error loading script: ${paths[lib]}`);\n",
       "          s.src = paths[lib];\n",
       "        });\n",
       "    }\n",
       "\n",
       "    function showError(err) {\n",
       "      outputDiv.innerHTML = `<div class=\"error\" style=\"color:red;\">${err}</div>`;\n",
       "      throw err;\n",
       "    }\n",
       "\n",
       "    function displayChart(vegaEmbed) {\n",
       "      vegaEmbed(outputDiv, spec, embedOpt)\n",
       "        .catch(err => showError(`Javascript Error: ${err.message}<br>This usually means there's a typo in your chart specification. See the javascript console for the full traceback.`));\n",
       "    }\n",
       "\n",
       "    if(typeof define === \"function\" && define.amd) {\n",
       "      requirejs.config({paths});\n",
       "      require([\"vega-embed\"], displayChart, err => showError(`Error loading script: ${err.message}`));\n",
       "    } else {\n",
       "      maybeLoadScript(\"vega\", \"5\")\n",
       "        .then(() => maybeLoadScript(\"vega-lite\", \"5.20.1\"))\n",
       "        .then(() => maybeLoadScript(\"vega-embed\", \"6\"))\n",
       "        .catch(showError)\n",
       "        .then(() => displayChart(vegaEmbed));\n",
       "    }\n",
       "  })({\"config\": {\"view\": {\"continuousWidth\": 300, \"continuousHeight\": 300}}, \"layer\": [{\"mark\": {\"type\": \"arc\", \"innerRadius\": 20, \"stroke\": \"#fff\"}, \"encoding\": {\"color\": {\"field\": \"name\", \"title\": \"Tecnolog\\u00eda\", \"type\": \"nominal\"}, \"opacity\": {\"condition\": {\"param\": \"param_437\", \"value\": 1}, \"value\": 0.2}, \"radius\": {\"field\": \"value\", \"scale\": {\"type\": \"sqrt\", \"zero\": true}, \"type\": \"quantitative\"}, \"theta\": {\"field\": \"value\", \"sort\": [\"E\\u00f3lica terrestre\", \"Nuclear\", \"Ciclo combinado\", \"Solar fotovoltaica\", \"Hidr\\u00e1ulica UGH\", \"Gas Natural Cogeneraci\\u00f3n\", \"Turbinaci\\u00f3n bombeo\", \"Solar t\\u00e9rmica\", \"Hidr\\u00e1ulica no UGH\", \"Hulla antracita\", \"Biomasa\", \"Residuos dom\\u00e9sticos y similares\", \"Hulla sub-bituminosa\", \"Biog\\u00e1s\", \"Derivados del petr\\u00f3leo \\u00f3 carb\\u00f3n\", \"Residuos varios\", \"Energ\\u00eda residual\", \"Oc\\u00e9ano y geot\\u00e9rmica\", \"Subproductos miner\\u00eda\", \"T\\u00e9rmica no renovable\", \"Fuel\"], \"stack\": true, \"type\": \"quantitative\"}}, \"name\": \"view_11\", \"title\": \"Generaci\\u00f3n el\\u00e9ctrica anual por tecnolog\\u00eda\", \"transform\": [{\"window\": [{\"op\": \"rank\", \"field\": \"value\", \"as\": \"rank\"}], \"sort\": [{\"field\": \"value\", \"order\": \"descending\"}]}]}, {\"mark\": {\"type\": \"text\", \"radiusOffset\": 10}, \"encoding\": {\"color\": {\"field\": \"name\", \"title\": \"Tecnolog\\u00eda\", \"type\": \"nominal\"}, \"opacity\": {\"condition\": {\"param\": \"param_437\", \"value\": 1}, \"value\": 0.2}, \"radius\": {\"field\": \"value\", \"scale\": {\"type\": \"sqrt\", \"zero\": true}, \"type\": \"quantitative\"}, \"text\": {\"field\": \"value_normalized\", \"format\": \".0%\", \"type\": \"quantitative\"}, \"theta\": {\"field\": \"value\", \"sort\": [\"E\\u00f3lica terrestre\", \"Nuclear\", \"Ciclo combinado\", \"Solar fotovoltaica\", \"Hidr\\u00e1ulica UGH\", \"Gas Natural Cogeneraci\\u00f3n\", \"Turbinaci\\u00f3n bombeo\", \"Solar t\\u00e9rmica\", \"Hidr\\u00e1ulica no UGH\", \"Hulla antracita\", \"Biomasa\", \"Residuos dom\\u00e9sticos y similares\", \"Hulla sub-bituminosa\", \"Biog\\u00e1s\", \"Derivados del petr\\u00f3leo \\u00f3 carb\\u00f3n\", \"Residuos varios\", \"Energ\\u00eda residual\", \"Oc\\u00e9ano y geot\\u00e9rmica\", \"Subproductos miner\\u00eda\", \"T\\u00e9rmica no renovable\", \"Fuel\"], \"stack\": true, \"type\": \"quantitative\"}}, \"title\": \"Generaci\\u00f3n el\\u00e9ctrica anual por tecnolog\\u00eda\", \"transform\": [{\"window\": [{\"op\": \"rank\", \"field\": \"value\", \"as\": \"rank\"}], \"sort\": [{\"field\": \"value\", \"order\": \"descending\"}]}, {\"filter\": \"(datum.rank <= 6)\"}]}], \"data\": {\"name\": \"data-1f41f34e68037af3d4ec0fafa524dfa6\"}, \"height\": 400, \"params\": [{\"name\": \"param_437\", \"select\": {\"type\": \"point\", \"fields\": [\"name\"]}, \"bind\": \"legend\", \"views\": [\"view_11\"]}], \"width\": 400, \"$schema\": \"https://vega.github.io/schema/vega-lite/v5.20.1.json\", \"datasets\": {\"data-1f41f34e68037af3d4ec0fafa524dfa6\": [{\"name\": \"E\\u00f3lica terrestre\", \"value\": 61080764.059, \"value_normalized\": 0.2419516600136885}, {\"name\": \"Nuclear\", \"value\": 54124153.336, \"value_normalized\": 0.21439530019354858}, {\"name\": \"Ciclo combinado\", \"value\": 39201296.699, \"value_normalized\": 0.15528323781035985}, {\"name\": \"Solar fotovoltaica\", \"value\": 36482997.58, \"value_normalized\": 0.14451557642975718}, {\"name\": \"Hidr\\u00e1ulica UGH\", \"value\": 20687121.629, \"value_normalized\": 0.08194533084436952}, {\"name\": \"Gas Natural Cogeneraci\\u00f3n\", \"value\": 16532098.322, \"value_normalized\": 0.06548655201257318}, {\"name\": \"Turbinaci\\u00f3n bombeo\", \"value\": 5184741.644, \"value_normalized\": 0.02053767445175011}, {\"name\": \"Solar t\\u00e9rmica\", \"value\": 4673006.343, \"value_normalized\": 0.01851060083091332}, {\"name\": \"Hidr\\u00e1ulica no UGH\", \"value\": 4547274.521, \"value_normalized\": 0.01801255494825113}, {\"name\": \"Hulla antracita\", \"value\": 2933009.803, \"value_normalized\": 0.011618168200823413}, {\"name\": \"Biomasa\", \"value\": 2864914.203, \"value_normalized\": 0.011348429540650245}, {\"name\": \"Residuos dom\\u00e9sticos y similares\", \"value\": 1410605.073, \"value_normalized\": 0.0055876550382770035}, {\"name\": \"Hulla sub-bituminosa\", \"value\": 869403.064, \"value_normalized\": 0.0034438585992899403}, {\"name\": \"Biog\\u00e1s\", \"value\": 697422.703, \"value_normalized\": 0.0027626141113606473}, {\"name\": \"Derivados del petr\\u00f3leo \\u00f3 carb\\u00f3n\", \"value\": 658672.596, \"value_normalized\": 0.0026091181153822442}, {\"name\": \"Residuos varios\", \"value\": 468001.196, \"value_normalized\": 0.0018538351313224458}, {\"name\": \"Energ\\u00eda residual\", \"value\": 17844.031, \"value_normalized\": 7.068334832248332e-05}, {\"name\": \"Oc\\u00e9ano y geot\\u00e9rmica\", \"value\": 11408.087, \"value_normalized\": 4.518944105814398e-05}, {\"name\": \"Subproductos miner\\u00eda\", \"value\": 4714.597, \"value_normalized\": 1.8675348745534848e-05}, {\"name\": \"T\\u00e9rmica no renovable\", \"value\": 829.45, \"value_normalized\": 3.285597478847902e-06}, {\"name\": \"Fuel\", \"value\": -0.002, \"value_normalized\": -7.922352110067881e-12}]}}, {\"mode\": \"vega-lite\"});\n",
       "</script>"
      ],
      "text/plain": [
       "alt.LayerChart(...)"
      ]
     },
     "execution_count": 88,
     "metadata": {},
     "output_type": "execute_result"
    }
   ],
   "source": [
    "selection = alt.selection_point(fields=['name'], bind='legend')\n",
    "\n",
    "# Base del gráfico\n",
    "base = alt.Chart(df_aux).transform_window(\n",
    "    rank='rank(value)',\n",
    "    sort=[alt.SortField('value', order='descending')]\n",
    ").encode(\n",
    "    alt.Theta(\"value:Q\", sort=df_aux['name'].to_list()).stack(True),\n",
    "    alt.Radius(\"value\").scale(type=\"sqrt\", zero=True),\n",
    "    color=alt.Color(\"name:N\", title='Tecnología'),\n",
    "    opacity=alt.condition(selection, alt.value(1), alt.value(0.2))\n",
    ").add_params(selection).properties(\n",
    "    title='Generación eléctrica anual por tecnología',\n",
    "    width=400,\n",
    "    height=400\n",
    ")\n",
    "\n",
    "# Gráfico de arco\n",
    "c1 = base.mark_arc(innerRadius=20, stroke=\"#fff\")\n",
    "\n",
    "# Gráfico de texto con formato\n",
    "c2 = base.mark_text(radiusOffset=10).encode(\n",
    "    text=alt.Text(\"value_normalized:Q\", format=\".0%\")\n",
    "    ).transform_filter(\n",
    "    alt.datum.rank <= 6\n",
    ")\n",
    "\n",
    "# Mostrar el gráfico\n",
    "c1 + c2"
   ]
  },
  {
   "cell_type": "code",
   "execution_count": 76,
   "metadata": {},
   "outputs": [
    {
     "data": {
      "text/html": [
       "\n",
       "<style>\n",
       "  #altair-viz-398a693235a540abb70937bfd3beab09.vega-embed {\n",
       "    width: 100%;\n",
       "    display: flex;\n",
       "  }\n",
       "\n",
       "  #altair-viz-398a693235a540abb70937bfd3beab09.vega-embed details,\n",
       "  #altair-viz-398a693235a540abb70937bfd3beab09.vega-embed details summary {\n",
       "    position: relative;\n",
       "  }\n",
       "</style>\n",
       "<div id=\"altair-viz-398a693235a540abb70937bfd3beab09\"></div>\n",
       "<script type=\"text/javascript\">\n",
       "  var VEGA_DEBUG = (typeof VEGA_DEBUG == \"undefined\") ? {} : VEGA_DEBUG;\n",
       "  (function(spec, embedOpt){\n",
       "    let outputDiv = document.currentScript.previousElementSibling;\n",
       "    if (outputDiv.id !== \"altair-viz-398a693235a540abb70937bfd3beab09\") {\n",
       "      outputDiv = document.getElementById(\"altair-viz-398a693235a540abb70937bfd3beab09\");\n",
       "    }\n",
       "    const paths = {\n",
       "      \"vega\": \"https://cdn.jsdelivr.net/npm/vega@5?noext\",\n",
       "      \"vega-lib\": \"https://cdn.jsdelivr.net/npm/vega-lib?noext\",\n",
       "      \"vega-lite\": \"https://cdn.jsdelivr.net/npm/vega-lite@5.20.1?noext\",\n",
       "      \"vega-embed\": \"https://cdn.jsdelivr.net/npm/vega-embed@6?noext\",\n",
       "    };\n",
       "\n",
       "    function maybeLoadScript(lib, version) {\n",
       "      var key = `${lib.replace(\"-\", \"\")}_version`;\n",
       "      return (VEGA_DEBUG[key] == version) ?\n",
       "        Promise.resolve(paths[lib]) :\n",
       "        new Promise(function(resolve, reject) {\n",
       "          var s = document.createElement('script');\n",
       "          document.getElementsByTagName(\"head\")[0].appendChild(s);\n",
       "          s.async = true;\n",
       "          s.onload = () => {\n",
       "            VEGA_DEBUG[key] = version;\n",
       "            return resolve(paths[lib]);\n",
       "          };\n",
       "          s.onerror = () => reject(`Error loading script: ${paths[lib]}`);\n",
       "          s.src = paths[lib];\n",
       "        });\n",
       "    }\n",
       "\n",
       "    function showError(err) {\n",
       "      outputDiv.innerHTML = `<div class=\"error\" style=\"color:red;\">${err}</div>`;\n",
       "      throw err;\n",
       "    }\n",
       "\n",
       "    function displayChart(vegaEmbed) {\n",
       "      vegaEmbed(outputDiv, spec, embedOpt)\n",
       "        .catch(err => showError(`Javascript Error: ${err.message}<br>This usually means there's a typo in your chart specification. See the javascript console for the full traceback.`));\n",
       "    }\n",
       "\n",
       "    if(typeof define === \"function\" && define.amd) {\n",
       "      requirejs.config({paths});\n",
       "      require([\"vega-embed\"], displayChart, err => showError(`Error loading script: ${err.message}`));\n",
       "    } else {\n",
       "      maybeLoadScript(\"vega\", \"5\")\n",
       "        .then(() => maybeLoadScript(\"vega-lite\", \"5.20.1\"))\n",
       "        .then(() => maybeLoadScript(\"vega-embed\", \"6\"))\n",
       "        .catch(showError)\n",
       "        .then(() => displayChart(vegaEmbed));\n",
       "    }\n",
       "  })({\"config\": {\"view\": {\"continuousWidth\": 300, \"continuousHeight\": 300}}, \"layer\": [{\"mark\": {\"type\": \"arc\", \"innerRadius\": 20, \"stroke\": \"#fff\"}, \"encoding\": {\"color\": {\"field\": \"name\", \"title\": \"Tecnolog\\u00eda\", \"type\": \"nominal\"}, \"opacity\": {\"condition\": {\"param\": \"param_428\", \"value\": 1}, \"value\": 0.2}, \"radius\": {\"field\": \"value\", \"scale\": {\"type\": \"sqrt\", \"zero\": true}, \"type\": \"quantitative\"}, \"theta\": {\"field\": \"value\", \"sort\": [\"E\\u00f3lica terrestre\", \"Nuclear\", \"Ciclo combinado\", \"Solar fotovoltaica\", \"Hidr\\u00e1ulica UGH\", \"Gas Natural Cogeneraci\\u00f3n\", \"Turbinaci\\u00f3n bombeo\", \"Solar t\\u00e9rmica\", \"Hidr\\u00e1ulica no UGH\", \"Hulla antracita\", \"Biomasa\", \"Residuos dom\\u00e9sticos y similares\", \"Hulla sub-bituminosa\", \"Biog\\u00e1s\", \"Derivados del petr\\u00f3leo \\u00f3 carb\\u00f3n\", \"Residuos varios\", \"Energ\\u00eda residual\", \"Oc\\u00e9ano y geot\\u00e9rmica\", \"Subproductos miner\\u00eda\", \"T\\u00e9rmica no renovable\", \"Fuel\"], \"stack\": true, \"type\": \"quantitative\"}}, \"name\": \"view_1\", \"title\": \"Generaci\\u00f3n el\\u00e9ctrica por tecnolog\\u00eda\"}, {\"mark\": {\"type\": \"text\", \"radiusOffset\": 10}, \"encoding\": {\"color\": {\"field\": \"name\", \"title\": \"Tecnolog\\u00eda\", \"type\": \"nominal\"}, \"opacity\": {\"condition\": {\"param\": \"param_428\", \"value\": 1}, \"value\": 0.2}, \"radius\": {\"field\": \"value\", \"scale\": {\"type\": \"sqrt\", \"zero\": true}, \"type\": \"quantitative\"}, \"text\": {\"field\": \"value_normalized\", \"type\": \"quantitative\"}, \"theta\": {\"field\": \"value\", \"sort\": [\"E\\u00f3lica terrestre\", \"Nuclear\", \"Ciclo combinado\", \"Solar fotovoltaica\", \"Hidr\\u00e1ulica UGH\", \"Gas Natural Cogeneraci\\u00f3n\", \"Turbinaci\\u00f3n bombeo\", \"Solar t\\u00e9rmica\", \"Hidr\\u00e1ulica no UGH\", \"Hulla antracita\", \"Biomasa\", \"Residuos dom\\u00e9sticos y similares\", \"Hulla sub-bituminosa\", \"Biog\\u00e1s\", \"Derivados del petr\\u00f3leo \\u00f3 carb\\u00f3n\", \"Residuos varios\", \"Energ\\u00eda residual\", \"Oc\\u00e9ano y geot\\u00e9rmica\", \"Subproductos miner\\u00eda\", \"T\\u00e9rmica no renovable\", \"Fuel\"], \"stack\": true, \"type\": \"quantitative\"}}, \"title\": \"Generaci\\u00f3n el\\u00e9ctrica por tecnolog\\u00eda\"}], \"data\": {\"name\": \"data-621c8610c3adc1487f8e64a87f1cf251\"}, \"height\": 300, \"params\": [{\"name\": \"param_428\", \"select\": {\"type\": \"point\", \"fields\": [\"name\"]}, \"bind\": \"legend\", \"views\": [\"view_1\"]}], \"width\": 400, \"$schema\": \"https://vega.github.io/schema/vega-lite/v5.20.1.json\", \"datasets\": {\"data-621c8610c3adc1487f8e64a87f1cf251\": [{\"name\": \"E\\u00f3lica terrestre\", \"value\": 61080764.059, \"value_normalized\": 24.19516600136885}, {\"name\": \"Nuclear\", \"value\": 54124153.336, \"value_normalized\": 21.43953001935486}, {\"name\": \"Ciclo combinado\", \"value\": 39201296.699, \"value_normalized\": 15.528323781035985}, {\"name\": \"Solar fotovoltaica\", \"value\": 36482997.58, \"value_normalized\": 14.451557642975718}, {\"name\": \"Hidr\\u00e1ulica UGH\", \"value\": 20687121.629, \"value_normalized\": 8.194533084436951}, {\"name\": \"Gas Natural Cogeneraci\\u00f3n\", \"value\": 16532098.322, \"value_normalized\": 6.5486552012573185}, {\"name\": \"Turbinaci\\u00f3n bombeo\", \"value\": 5184741.644, \"value_normalized\": 2.0537674451750108}, {\"name\": \"Solar t\\u00e9rmica\", \"value\": 4673006.343, \"value_normalized\": 1.851060083091332}, {\"name\": \"Hidr\\u00e1ulica no UGH\", \"value\": 4547274.521, \"value_normalized\": 1.8012554948251132}, {\"name\": \"Hulla antracita\", \"value\": 2933009.803, \"value_normalized\": 1.1618168200823413}, {\"name\": \"Biomasa\", \"value\": 2864914.203, \"value_normalized\": 1.1348429540650244}, {\"name\": \"Residuos dom\\u00e9sticos y similares\", \"value\": 1410605.073, \"value_normalized\": 0.5587655038277004}, {\"name\": \"Hulla sub-bituminosa\", \"value\": 869403.064, \"value_normalized\": 0.344385859928994}, {\"name\": \"Biog\\u00e1s\", \"value\": 697422.703, \"value_normalized\": 0.2762614111360647}, {\"name\": \"Derivados del petr\\u00f3leo \\u00f3 carb\\u00f3n\", \"value\": 658672.596, \"value_normalized\": 0.2609118115382244}, {\"name\": \"Residuos varios\", \"value\": 468001.196, \"value_normalized\": 0.18538351313224458}, {\"name\": \"Energ\\u00eda residual\", \"value\": 17844.031, \"value_normalized\": 0.007068334832248333}, {\"name\": \"Oc\\u00e9ano y geot\\u00e9rmica\", \"value\": 11408.087, \"value_normalized\": 0.004518944105814398}, {\"name\": \"Subproductos miner\\u00eda\", \"value\": 4714.597, \"value_normalized\": 0.0018675348745534849}, {\"name\": \"T\\u00e9rmica no renovable\", \"value\": 829.45, \"value_normalized\": 0.0003285597478847902}, {\"name\": \"Fuel\", \"value\": -0.002, \"value_normalized\": -7.922352110067881e-10}]}}, {\"mode\": \"vega-lite\"});\n",
       "</script>"
      ],
      "text/plain": [
       "alt.LayerChart(...)"
      ]
     },
     "execution_count": 76,
     "metadata": {},
     "output_type": "execute_result"
    }
   ],
   "source": [
    "selection = alt.selection_point(fields=['name'], bind='legend')\n",
    "\n",
    "base = alt.Chart(df_aux).encode(\n",
    "    alt.Theta(\"value:Q\", sort=df_aux['name'].to_list()).stack(True),\n",
    "    alt.Radius(\"value\").scale(type=\"sqrt\", zero=True),\n",
    "    color=alt.Color(\"name:N\", title='Tecnología'),\n",
    "    #color=\"name:N\",\n",
    "    opacity=alt.condition(selection, alt.value(1), alt.value(0.2))\n",
    ").add_params(selection\n",
    ").properties(\n",
    "title='Generación eléctrica por tecnología',\n",
    "width=400,\n",
    "height=300)\n",
    "\n",
    "c1 = base.mark_arc(innerRadius=20, stroke=\"#fff\")\n",
    "\n",
    "c2 = base.mark_text(radiusOffset=10).encode(text=\"value_normalized\")\n",
    "\n",
    "c1 + c2"
   ]
  },
  {
   "cell_type": "code",
   "execution_count": null,
   "metadata": {},
   "outputs": [],
   "source": []
  },
  {
   "cell_type": "markdown",
   "metadata": {},
   "source": [
    "## Streamlit"
   ]
  },
  {
   "cell_type": "code",
   "execution_count": null,
   "metadata": {},
   "outputs": [],
   "source": [
    "import streamlit as st"
   ]
  },
  {
   "cell_type": "code",
   "execution_count": null,
   "metadata": {},
   "outputs": [],
   "source": []
  },
  {
   "cell_type": "code",
   "execution_count": null,
   "metadata": {},
   "outputs": [],
   "source": [
    "df = df.pivot(index='datetime', columns='name', values='value').reset_index()"
   ]
  },
  {
   "cell_type": "code",
   "execution_count": null,
   "metadata": {},
   "outputs": [],
   "source": [
    "df"
   ]
  },
  {
   "cell_type": "code",
   "execution_count": null,
   "metadata": {},
   "outputs": [],
   "source": [
    "alt.Chart(df).mark_line().encode(\n",
    "  x='datetime:T',\n",
    "  y='Precio medio horario componente banda secundaria:Q'\n",
    ")"
   ]
  },
  {
   "cell_type": "code",
   "execution_count": null,
   "metadata": {},
   "outputs": [],
   "source": [
    "alt.data_transformers.disable_max_rows()"
   ]
  },
  {
   "cell_type": "code",
   "execution_count": null,
   "metadata": {},
   "outputs": [],
   "source": [
    "alt.Chart(df).mark_line().encode(\n",
    "  x='datetime:T',\n",
    "  y='value:Q',\n",
    "  color='name:N'\n",
    ")"
   ]
  },
  {
   "cell_type": "code",
   "execution_count": null,
   "metadata": {},
   "outputs": [],
   "source": [
    "alt.Chart(df).mark_bar().encode(\n",
    "    x='datetime:T',\n",
    "    y='value:Q',\n",
    "    color='name:N'\n",
    ")"
   ]
  },
  {
   "cell_type": "code",
   "execution_count": null,
   "metadata": {},
   "outputs": [],
   "source": [
    "selection = alt.selection_point(fields=['name'], bind='legend')"
   ]
  },
  {
   "cell_type": "code",
   "execution_count": null,
   "metadata": {},
   "outputs": [],
   "source": [
    "# Plotting\n",
    "chart.mark_line().encode(\n",
    "    x='datetime:T',\n",
    "    y='value:Q',\n",
    "    tooltip=['datetime:T', 'value:Q']\n",
    ").properties(\n",
    "    title='Hourly Average Price Over Time',\n",
    "    width=800,\n",
    "    height=400\n",
    ").interactive()\n",
    "\n",
    "\n",
    "\n"
   ]
  },
  {
   "cell_type": "code",
   "execution_count": null,
   "metadata": {},
   "outputs": [],
   "source": [
    "chart.show"
   ]
  },
  {
   "cell_type": "code",
   "execution_count": null,
   "metadata": {},
   "outputs": [],
   "source": [
    "# Crear el gráfico apilado\n",
    "chart.mark_area().encode(\n",
    "    x='datetime:T',\n",
    "    y='value:Q',\n",
    "    color='name:N',\n",
    "    tooltip=['datetime:T', 'name:N', 'value:Q']\n",
    ").properties(\n",
    "    title='Evolución del Precio Horario de la Electricidad en 2023 por Componentes',\n",
    "    width=800,\n",
    "    height=400\n",
    ").interactive()\n"
   ]
  },
  {
   "cell_type": "code",
   "execution_count": null,
   "metadata": {},
   "outputs": [],
   "source": [
    "# Crear el gráfico apilado\n",
    "alt.Chart(df).mark_area().encode(\n",
    "    x='datetime:T',\n",
    "    y='value:Q',\n",
    "    color='name:N',\n",
    "    tooltip=['datetime:T', 'name:N', 'value:Q']\n",
    ").properties(\n",
    "    title='Evolución del Precio Horario de la Electricidad en 2023 por Componentes',\n",
    "    width=800,\n",
    "    height=400\n",
    ").interactive()"
   ]
  }
 ],
 "metadata": {
  "kernelspec": {
   "display_name": "VD",
   "language": "python",
   "name": "python3"
  },
  "language_info": {
   "codemirror_mode": {
    "name": "ipython",
    "version": 3
   },
   "file_extension": ".py",
   "mimetype": "text/x-python",
   "name": "python",
   "nbconvert_exporter": "python",
   "pygments_lexer": "ipython3",
   "version": "3.10.14"
  }
 },
 "nbformat": 4,
 "nbformat_minor": 2
}
